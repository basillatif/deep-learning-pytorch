{
  "cells": [
    {
      "cell_type": "markdown",
      "metadata": {
        "id": "cRS1sr2oHxhv"
      },
      "source": [
        "**bold text**#IS 675 Lab 1: Introduction to Colab\n",
        "---\n",
        "\n"
      ]
    },
    {
      "cell_type": "markdown",
      "metadata": {
        "id": "pkM-HvqqdluY"
      },
      "source": [
        "# Part 1: Google Colab\n",
        "Google Colab is an executable document that allows you to write and execute Python in your browser. Colab connects your notebook to a cloud based runtime provided by Google.<br>\n",
        "<br>\n",
        "\n",
        "\n",
        "*   Notebook documents stored in Google Drive\n",
        "*   A notebook document is a list of cells\n",
        "\n"
      ]
    },
    {
      "cell_type": "markdown",
      "metadata": {
        "id": "zCb8_qMatg_T"
      },
      "source": [
        "## 1. Cells\n",
        "Colab has two types of cells: text and code. Click a cell to select it."
      ]
    },
    {
      "cell_type": "markdown",
      "metadata": {
        "id": "61byguqEhJEi"
      },
      "source": [
        "### 1.1 Text cells\n",
        "Text cells are formatted using a simple markup language called Markdown. Double-click to edit a text cell.<br>\n",
        "<br>\n",
        "Headings are rendered as titles.<br>\n",
        "\n",
        "\n",
        "*   \"# Section 1\"\n",
        "*   \"# Section 2\"\n",
        "*   \"## Sub-section under Section 2\"\n",
        "*   \"### Sub-section under the sub-section under Section 2\"\n",
        "<br>\n",
        "<br>\n",
        "\n",
        "The **table of contents**, available on the left side of Colab, can be used to navigate through the document.\n",
        "\n",
        "\n"
      ]
    },
    {
      "cell_type": "markdown",
      "metadata": {
        "id": "rCmZhnY9tmvM"
      },
      "source": [
        "### 1.2 Code cells\n",
        "Below is a code cell. You can click in the cell to select it and execute the Python codes in the following ways:\n",
        "\n",
        "* Click the **Play icon** in the left gutter of the cell;\n",
        "* Type **Cmd/Ctrl+Enter** to run the cell in place;"
      ]
    },
    {
      "cell_type": "code",
      "execution_count": 1,
      "metadata": {
        "id": "aCqc8I6FnDDJ"
      },
      "outputs": [
        {
          "name": "stdout",
          "output_type": "stream",
          "text": [
            "IS675 lab1\n"
          ]
        }
      ],
      "source": [
        "print(\"IS675 lab1\")"
      ]
    },
    {
      "cell_type": "markdown",
      "metadata": {
        "id": "lVsRB844uASM"
      },
      "source": [
        "### 1.3 Adding, moving, and deleting cells\n",
        "You can add new cells by using the **+ CODE** and **+ TEXT** buttons that show when you hover between cells. These buttons are also in the toolbar above the notebook where they can be used to add a cell below the currently selected cell.\n",
        "\n",
        "You can move a cell by selecting it and clicking **Cell Up** or **Cell Down** in the toolbar.\n",
        "\n",
        "You can delete a cell by selecting it and clicking on the **Delete cell** button on the top-right corner of the cell."
      ]
    },
    {
      "cell_type": "markdown",
      "metadata": {
        "id": "rs1i7xsEoKGf"
      },
      "source": [
        "## 2. Save your notebook document\n",
        "\n",
        "\n",
        "*   File -> Save\n",
        "*   Type **Cmd/Ctrl+S**\n",
        "\n"
      ]
    },
    {
      "cell_type": "markdown",
      "metadata": {
        "id": "SzYPBUCJpdXw"
      },
      "source": [
        "## 3. Download your notebook document\n",
        "\n",
        "*   File -> Download -> Download .ipynb\n",
        "*   Download the file from Google Drive\n",
        "\n"
      ]
    },
    {
      "cell_type": "markdown",
      "metadata": {
        "id": "DrVCdIuZTZJ-"
      },
      "source": [
        "# Part 2: Basic operators and data structures in Python\n",
        "\n",
        "\n"
      ]
    },
    {
      "cell_type": "code",
      "execution_count": 2,
      "metadata": {
        "id": "6j99MpIsHPf7"
      },
      "outputs": [
        {
          "ename": "ModuleNotFoundError",
          "evalue": "No module named 'google.colab'",
          "output_type": "error",
          "traceback": [
            "\u001b[0;31m---------------------------------------------------------------------------\u001b[0m",
            "\u001b[0;31mModuleNotFoundError\u001b[0m                       Traceback (most recent call last)",
            "Input \u001b[0;32mIn [2]\u001b[0m, in \u001b[0;36m<cell line: 2>\u001b[0;34m()\u001b[0m\n\u001b[1;32m      1\u001b[0m \u001b[38;5;66;03m# Mounting Google Drive\u001b[39;00m\n\u001b[0;32m----> 2\u001b[0m \u001b[38;5;28;01mfrom\u001b[39;00m \u001b[38;5;21;01mgoogle\u001b[39;00m\u001b[38;5;21;01m.\u001b[39;00m\u001b[38;5;21;01mcolab\u001b[39;00m \u001b[38;5;28;01mimport\u001b[39;00m drive\n\u001b[1;32m      3\u001b[0m drive\u001b[38;5;241m.\u001b[39mmount(\u001b[38;5;124m'\u001b[39m\u001b[38;5;124m/content/drive\u001b[39m\u001b[38;5;124m'\u001b[39m)\n",
            "\u001b[0;31mModuleNotFoundError\u001b[0m: No module named 'google.colab'"
          ]
        }
      ],
      "source": [
        "# Mounting Google Drive\n",
        "from google.colab import drive\n",
        "drive.mount('/content/drive')"
      ]
    },
    {
      "cell_type": "code",
      "execution_count": 3,
      "metadata": {
        "id": "4FM3FiCKJjpg"
      },
      "outputs": [],
      "source": [
        "# Import libraries\n",
        "import pandas as pd\n",
        "import seaborn as sns"
      ]
    },
    {
      "cell_type": "code",
      "execution_count": null,
      "metadata": {
        "id": "V-IiU92JI6Sf"
      },
      "outputs": [],
      "source": [
        "# Read data (with assignment operator)\n",
        "pokemon = pd.read_csv('/content/drive/MyDrive/IS675_data/pokemon.csv')\n",
        "# pokemon is a dataframe\n",
        "pokemon"
      ]
    },
    {
      "cell_type": "code",
      "execution_count": null,
      "metadata": {
        "id": "O2MctaG4JR-9"
      },
      "outputs": [],
      "source": [
        "# Examine the number of rows and cols\n",
        "pokemon.shape"
      ]
    },
    {
      "cell_type": "code",
      "execution_count": null,
      "metadata": {
        "id": "g1OnInGFc_42"
      },
      "outputs": [],
      "source": [
        "# Show the head rows of a data frame\n",
        "pokemon.head()"
      ]
    },
    {
      "cell_type": "code",
      "execution_count": null,
      "metadata": {
        "id": "vqydxTSyiqGa"
      },
      "outputs": [],
      "source": [
        "# Obtain the Attack value for every pokemon\n",
        "pokemon['Attack']"
      ]
    },
    {
      "cell_type": "code",
      "execution_count": null,
      "metadata": {
        "id": "Pq-v03psjLxi"
      },
      "outputs": [],
      "source": [
        "# Obtain the Attack and Defense values for every pokemon\n",
        "pokemon[['Attack', 'Defense']]"
      ]
    },
    {
      "cell_type": "code",
      "execution_count": null,
      "metadata": {
        "id": "NTnfh9OUu6BS"
      },
      "outputs": [],
      "source": [
        "# Extract the first row from data frame\n",
        "pokemon.iloc[0,:]"
      ]
    },
    {
      "cell_type": "code",
      "execution_count": null,
      "metadata": {
        "id": "Vshiadajv2uS"
      },
      "outputs": [],
      "source": [
        "# Extract the last row from data frame\n",
        "pokemon.iloc[-1,:]"
      ]
    },
    {
      "cell_type": "code",
      "execution_count": null,
      "metadata": {
        "id": "J0SM3fc1v7GJ"
      },
      "outputs": [],
      "source": [
        "# Extract the third column from data frame\n",
        "pokemon.iloc[:,2] # or pokemon['Type 1']"
      ]
    },
    {
      "cell_type": "code",
      "execution_count": null,
      "metadata": {
        "id": "1osGllSqwXfa"
      },
      "outputs": [],
      "source": [
        "# Extract the last column from data frame\n",
        "pokemon.iloc[:,-1]"
      ]
    },
    {
      "cell_type": "code",
      "execution_count": null,
      "metadata": {
        "id": "SDl1S0s6wbwE"
      },
      "outputs": [],
      "source": [
        "# Extract the first three columns from the data frame\n",
        "pokemon.iloc[:,0:3]"
      ]
    },
    {
      "cell_type": "code",
      "execution_count": null,
      "metadata": {
        "id": "0ahI_faNw74G"
      },
      "outputs": [],
      "source": [
        "# Extract the value in the first row and fifth column of the data frame\n",
        "pokemon.iloc[0, 4]"
      ]
    },
    {
      "cell_type": "code",
      "execution_count": null,
      "metadata": {
        "id": "Sv_BVQ3nxXLX"
      },
      "outputs": [],
      "source": [
        "# Histogram of Attack\n",
        "snsplot = sns.histplot(x='Attack', data = pokemon)\n",
        "snsplot.set_title(\"Histogram of Attack in the pokemon data set\")"
      ]
    },
    {
      "cell_type": "code",
      "execution_count": null,
      "metadata": {
        "id": "V8in_oktxmiX"
      },
      "outputs": [],
      "source": [
        "# Plot a categorical variable: Legendary\n",
        "snsplot = sns.countplot(x='Legendary', data=pokemon)\n",
        "snsplot.set_title(\"Countplot of Legendary in the pokemon data set\")"
      ]
    },
    {
      "cell_type": "code",
      "execution_count": null,
      "metadata": {
        "id": "MNRp8uoa-0g0"
      },
      "outputs": [],
      "source": [
        "!jupyter nbconvert --to html \"/content/drive/MyDrive/Colab Notebooks/IS675_lab1.ipynb\""
      ]
    }
  ],
  "metadata": {
    "colab": {
      "provenance": [],
      "toc_visible": true
    },
    "kernelspec": {
      "display_name": "Python 3",
      "name": "python3"
    },
    "language_info": {
      "codemirror_mode": {
        "name": "ipython",
        "version": 3
      },
      "file_extension": ".py",
      "mimetype": "text/x-python",
      "name": "python",
      "nbconvert_exporter": "python",
      "pygments_lexer": "ipython3",
      "version": "3.10.0"
    }
  },
  "nbformat": 4,
  "nbformat_minor": 0
}
